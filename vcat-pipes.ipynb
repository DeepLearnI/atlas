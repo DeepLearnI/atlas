{
 "cells": [
  {
   "cell_type": "code",
   "execution_count": 1,
   "metadata": {},
   "outputs": [
    {
     "ename": "TypeError",
     "evalue": "__init__() missing 1 required positional argument: 'pipeline_context'",
     "output_type": "error",
     "traceback": [
      "\u001b[0;31m---------------------------------------------------------------------------\u001b[0m",
      "\u001b[0;31mTypeError\u001b[0m                                 Traceback (most recent call last)",
      "\u001b[0;32m<ipython-input-1-3df2bfc0e4eb>\u001b[0m in \u001b[0;36m<module>\u001b[0;34m()\u001b[0m\n\u001b[0;32m----> 1\u001b[0;31m \u001b[0;32mfrom\u001b[0m \u001b[0mvcat\u001b[0m \u001b[0;32mimport\u001b[0m \u001b[0;34m*\u001b[0m\u001b[0;34m\u001b[0m\u001b[0m\n\u001b[0m",
      "\u001b[0;32m~/projects/vcat-notes/vcat/__init__.py\u001b[0m in \u001b[0;36m<module>\u001b[0;34m()\u001b[0m\n\u001b[1;32m    225\u001b[0m \u001b[0;34m\u001b[0m\u001b[0m\n\u001b[1;32m    226\u001b[0m \u001b[0;34m\u001b[0m\u001b[0m\n\u001b[0;32m--> 227\u001b[0;31m \u001b[0mpipeline\u001b[0m \u001b[0;34m=\u001b[0m \u001b[0mPipeline\u001b[0m\u001b[0;34m(\u001b[0m\u001b[0;34m)\u001b[0m\u001b[0;34m\u001b[0m\u001b[0m\n\u001b[0m\u001b[1;32m    228\u001b[0m \u001b[0mpipeline_context\u001b[0m \u001b[0;34m=\u001b[0m \u001b[0mPipelineContext\u001b[0m\u001b[0;34m(\u001b[0m\u001b[0;34m)\u001b[0m\u001b[0;34m\u001b[0m\u001b[0m\n",
      "\u001b[0;31mTypeError\u001b[0m: __init__() missing 1 required positional argument: 'pipeline_context'"
     ]
    }
   ],
   "source": [
    "from vcat import *"
   ]
  },
  {
   "cell_type": "code",
   "execution_count": 2,
   "metadata": {},
   "outputs": [
    {
     "data": {
      "text/plain": [
       "<vcat.StageConnectorWrapper at 0x10b4f5198>"
      ]
     },
     "execution_count": 2,
     "metadata": {},
     "output_type": "execute_result"
    }
   ],
   "source": [
    "(pipeline | (lambda: 5) | (lambda x: x + 5))"
   ]
  },
  {
   "cell_type": "code",
   "execution_count": 3,
   "metadata": {},
   "outputs": [],
   "source": [
    "class SuperPipeline(object):\n",
    "    def __init__(self, pipeline, pipeline_context):\n",
    "        self.pipeline = pipeline\n",
    "        self.pipeline_context = pipeline_context\n",
    "        \n",
    "    def stage(self, function, *args, **kwargs):\n",
    "        def execute():\n",
    "            return pipeline_context.stage(function, *args, **kwargs)\n",
    "        return pipeline.stage(execute)"
   ]
  },
  {
   "cell_type": "code",
   "execution_count": 7,
   "metadata": {},
   "outputs": [
    {
     "data": {
      "text/plain": [
       "5"
      ]
     },
     "execution_count": 7,
     "metadata": {},
     "output_type": "execute_result"
    }
   ],
   "source": [
    "SuperPipeline(pipeline, pipeline_context).stage(lambda: (5, {\"hello\": \"no\"})).run()"
   ]
  },
  {
   "cell_type": "code",
   "execution_count": 8,
   "metadata": {},
   "outputs": [],
   "source": [
    "pipeline_context.save(RedisResultSaver())"
   ]
  },
  {
   "cell_type": "code",
   "execution_count": 9,
   "metadata": {},
   "outputs": [
    {
     "data": {
      "text/html": [
       "<div>\n",
       "<style scoped>\n",
       "    .dataframe tbody tr th:only-of-type {\n",
       "        vertical-align: middle;\n",
       "    }\n",
       "\n",
       "    .dataframe tbody tr th {\n",
       "        vertical-align: top;\n",
       "    }\n",
       "\n",
       "    .dataframe thead th {\n",
       "        text-align: right;\n",
       "    }\n",
       "</style>\n",
       "<table border=\"1\" class=\"dataframe\">\n",
       "  <thead>\n",
       "    <tr style=\"text-align: right;\">\n",
       "      <th></th>\n",
       "      <th>FPR</th>\n",
       "      <th>MDR</th>\n",
       "      <th>hello</th>\n",
       "      <th>hello_again</th>\n",
       "    </tr>\n",
       "  </thead>\n",
       "  <tbody>\n",
       "    <tr>\n",
       "      <th>0</th>\n",
       "      <td>asdlfj</td>\n",
       "      <td>[asdlfj, potato, {'hello': 'world'}]</td>\n",
       "      <td>5</td>\n",
       "      <td>5.0</td>\n",
       "    </tr>\n",
       "    <tr>\n",
       "      <th>1</th>\n",
       "      <td>asdlfj</td>\n",
       "      <td>NaN</td>\n",
       "      <td>5</td>\n",
       "      <td>5.0</td>\n",
       "    </tr>\n",
       "    <tr>\n",
       "      <th>2</th>\n",
       "      <td>asdlfj</td>\n",
       "      <td>asdlfj</td>\n",
       "      <td>5</td>\n",
       "      <td>5.0</td>\n",
       "    </tr>\n",
       "    <tr>\n",
       "      <th>3</th>\n",
       "      <td>NaN</td>\n",
       "      <td>NaN</td>\n",
       "      <td>yes</td>\n",
       "      <td>NaN</td>\n",
       "    </tr>\n",
       "    <tr>\n",
       "      <th>4</th>\n",
       "      <td>NaN</td>\n",
       "      <td>NaN</td>\n",
       "      <td>no</td>\n",
       "      <td>NaN</td>\n",
       "    </tr>\n",
       "  </tbody>\n",
       "</table>\n",
       "</div>"
      ],
      "text/plain": [
       "      FPR                                   MDR hello  hello_again\n",
       "0  asdlfj  [asdlfj, potato, {'hello': 'world'}]     5          5.0\n",
       "1  asdlfj                                   NaN     5          5.0\n",
       "2  asdlfj                                asdlfj     5          5.0\n",
       "3     NaN                                   NaN   yes          NaN\n",
       "4     NaN                                   NaN    no          NaN"
      ]
     },
     "execution_count": 9,
     "metadata": {},
     "output_type": "execute_result"
    }
   ],
   "source": [
    "ResultReader().to_pandas()"
   ]
  },
  {
   "cell_type": "code",
   "execution_count": 3,
   "metadata": {},
   "outputs": [
    {
     "data": {
      "text/plain": [
       "b'\\x80\\x03cvcat\\nStageConnector\\nq\\x00)\\x81q\\x01}q\\x02(X\\x0e\\x00\\x00\\x00_current_stageq\\x03cvcat\\nStage\\nq\\x04)\\x81q\\x05}q\\x06(X\\x04\\x00\\x00\\x00uuidq\\x07cuuid\\nUUID\\nq\\x08)\\x81q\\t}q\\nX\\x03\\x00\\x00\\x00intq\\x0b\\x8a\\x10rX\\x8b\\x17\\xe5\\xc1\\xaf\\xb3\\xf5J)\\xb67\\xa8q\\x11sbX\\x08\\x00\\x00\\x00functionq\\x0ccdill.dill\\n_create_function\\nq\\r(cdill.dill\\n_load_type\\nq\\x0eX\\x08\\x00\\x00\\x00CodeTypeq\\x0f\\x85q\\x10Rq\\x11(K\\x02K\\x00K\\x02K\\x02KCC\\x08|\\x00|\\x01\\x14\\x00S\\x00q\\x12N\\x85q\\x13)X\\x01\\x00\\x00\\x00xq\\x14X\\x01\\x00\\x00\\x00yq\\x15\\x86q\\x16X\\x1e\\x00\\x00\\x00<ipython-input-3-341e52d5460f>q\\x17X\\x08\\x00\\x00\\x00<lambda>q\\x18K\\x07C\\x00q\\x19))tq\\x1aRq\\x1bc__builtin__\\n__main__\\nh\\x18NN}q\\x1ctq\\x1dRq\\x1eX\\x04\\x00\\x00\\x00argsq\\x1f)X\\x06\\x00\\x00\\x00kwargsq }q!ubX\\x14\\x00\\x00\\x00_previous_connectorsq\"]q#(h\\x00)\\x81q$}q%(h\\x03h\\x04)\\x81q&}q\\'(h\\x07h\\x08)\\x81q(}q)h\\x0b\\x8a\\x10\\x95\\x14\\xdb\\x89\\xc3\\xe2!\\x99\\x7fG\\xd6\\x8f\\xca\\xc1\\xe8\\x00sbh\\x0ch\\r(h\\x11(K\\x01K\\x00K\\x01K\\x02KCC\\x08|\\x00|\\x00\\x14\\x00S\\x00q*N\\x85q+)h\\x14\\x85q,h\\x17h\\x18K\\x04C\\x00q-))tq.Rq/c__builtin__\\n__main__\\nh\\x18NN}q0tq1Rq2h\\x1f)h }q3ubh\"]q4h\\x00)\\x81q5}q6(h\\x03h\\x04)\\x81q7}q8(h\\x07h\\x08)\\x81q9}q:h\\x0b\\x8a\\x11\\xfc0sy\\xac\\xd7O\\xaa<I\\xfc\\x97\\x1b\\x9e\\xd0\\x80\\x00sbh\\x0ch\\r(h\\x11(K\\x02K\\x00K\\x02K\\x02KCC\\x08|\\x00|\\x01\\x17\\x00S\\x00q;N\\x85q<)h\\x14h\\x15\\x86q=h\\x17X\\x08\\x00\\x00\\x00funtimesq>K\\x01C\\x02\\x00\\x01q?))tq@RqAc__builtin__\\n__main__\\nh>NN}qBtqCRqDh\\x1fK\\x05\\x85qEh }qFh\\x15K\\nsubh\"]qGubaubh\\x00)\\x81qH}qI(h\\x03h\\x04)\\x81qJ}qK(h\\x07h\\x08)\\x81qL}qMh\\x0b\\x8a\\x11*\\xce\\xc6\\xf9\\xf0g\\xea\\x86;K\\xf6]\\xd8\\xddF\\xc1\\x00sbh\\x0ch\\r(h\\x11(K\\x01K\\x00K\\x01K\\x02KCC\\x08|\\x00|\\x00\\x14\\x00S\\x00qNN\\x85qO)h\\x14\\x85qPh\\x17h\\x18K\\x05C\\x00qQ))tqRRqSc__builtin__\\n__main__\\nh\\x18NN}qTtqURqVh\\x1f)h }qWubh\"]qXh\\x00)\\x81qY}qZ(h\\x03h\\x04)\\x81q[}q\\\\(h\\x07h\\x08)\\x81q]}q^h\\x0b\\x8a\\x104\\xb5b\\xd0\\x8e\\xa1\\xfa\\xba2DA\\x9e\\xce\\xbd&csbh\\x0ch\\r(h\\x11(K\\x02K\\x00K\\x02K\\x02KCC\\x08|\\x00|\\x01\\x17\\x00S\\x00q_N\\x85q`)h\\x14X\\x01\\x00\\x00\\x00zqa\\x86qbh\\x17h\\x18K\\x05C\\x00qc))tqdRqec__builtin__\\n__main__\\nh\\x18NN}qftqgRqhh\\x1fK\\x05\\x85qih }qjhaK\\nsubh\"]qkubaubeub.'"
      ]
     },
     "execution_count": 3,
     "metadata": {},
     "output_type": "execute_result"
    }
   ],
   "source": [
    "def funtimes(x, y):\n",
    "    return x+y\n",
    "\n",
    "p1 = pipeline | (funtimes, 5,{\"y\": 10}) | (lambda x: x * x)\n",
    "p2 = pipeline | ((lambda x, z: x+z), 5,{\"z\": 10}) | (lambda x: x * x)\n",
    "\n",
    "p3 = pipeline.join([p1, p2], lambda x, y: x * y)\n",
    "p3.serialize()"
   ]
  }
 ],
 "metadata": {
  "kernelspec": {
   "display_name": "Python 3",
   "language": "python",
   "name": "python3"
  },
  "language_info": {
   "codemirror_mode": {
    "name": "ipython",
    "version": 3
   },
   "file_extension": ".py",
   "mimetype": "text/x-python",
   "name": "python",
   "nbconvert_exporter": "python",
   "pygments_lexer": "ipython3",
   "version": "3.6.3"
  }
 },
 "nbformat": 4,
 "nbformat_minor": 2
}
