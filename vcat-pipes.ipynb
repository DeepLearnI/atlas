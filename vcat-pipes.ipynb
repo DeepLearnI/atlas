{
 "cells": [
  {
   "cell_type": "code",
   "execution_count": 1,
   "metadata": {},
   "outputs": [],
   "source": [
    "from vcat import *"
   ]
  },
  {
   "cell_type": "code",
   "execution_count": 2,
   "metadata": {},
   "outputs": [
    {
     "data": {
      "text/plain": [
       "<vcat.StageConnectorWrapper at 0x7fb1a4bb5690>"
      ]
     },
     "execution_count": 2,
     "metadata": {},
     "output_type": "execute_result"
    }
   ],
   "source": [
    "(pipeline | (lambda: 5) | (lambda x: x + 5))"
   ]
  },
  {
   "cell_type": "code",
   "execution_count": 3,
   "metadata": {},
   "outputs": [],
   "source": [
    "class SuperPipeline(object):\n",
    "    def __init__(self, pipeline, pipeline_context):\n",
    "        self.pipeline = pipeline\n",
    "        self.pipeline_context = pipeline_context\n",
    "        \n",
    "    def stage(self, function, *args, **kwargs):\n",
    "        def execute():\n",
    "            return pipeline_context.stage(function, *args, **kwargs)\n",
    "        return pipeline.stage(execute)"
   ]
  },
  {
   "cell_type": "code",
   "execution_count": 4,
   "metadata": {},
   "outputs": [
    {
     "ename": "AttributeError",
     "evalue": "'PipelineContext' object has no attribute 'stage'",
     "output_type": "error",
     "traceback": [
      "\u001b[0;31m---------------------------------------------------------------------------\u001b[0m",
      "\u001b[0;31mAttributeError\u001b[0m                            Traceback (most recent call last)",
      "\u001b[0;32m<ipython-input-4-26307a7d0a49>\u001b[0m in \u001b[0;36m<module>\u001b[0;34m()\u001b[0m\n\u001b[0;32m----> 1\u001b[0;31m \u001b[0mSuperPipeline\u001b[0m\u001b[0;34m(\u001b[0m\u001b[0mpipeline\u001b[0m\u001b[0;34m,\u001b[0m \u001b[0mpipeline_context\u001b[0m\u001b[0;34m)\u001b[0m\u001b[0;34m.\u001b[0m\u001b[0mstage\u001b[0m\u001b[0;34m(\u001b[0m\u001b[0;32mlambda\u001b[0m\u001b[0;34m:\u001b[0m \u001b[0;34m(\u001b[0m\u001b[0;36m5\u001b[0m\u001b[0;34m,\u001b[0m \u001b[0;34m{\u001b[0m\u001b[0;34m\"hello\"\u001b[0m\u001b[0;34m:\u001b[0m \u001b[0;34m\"no\"\u001b[0m\u001b[0;34m}\u001b[0m\u001b[0;34m)\u001b[0m\u001b[0;34m)\u001b[0m\u001b[0;34m.\u001b[0m\u001b[0mrun\u001b[0m\u001b[0;34m(\u001b[0m\u001b[0;34m)\u001b[0m\u001b[0;34m\u001b[0m\u001b[0m\n\u001b[0m",
      "\u001b[0;32m/home/ja/Repos/vcat/vcat-results/vcat/__init__.pyc\u001b[0m in \u001b[0;36mrun\u001b[0;34m(self, *args, **kwargs)\u001b[0m\n\u001b[1;32m    140\u001b[0m   \u001b[0;32mdef\u001b[0m \u001b[0mrun\u001b[0m\u001b[0;34m(\u001b[0m\u001b[0mself\u001b[0m\u001b[0;34m,\u001b[0m \u001b[0;34m*\u001b[0m\u001b[0margs\u001b[0m\u001b[0;34m,\u001b[0m \u001b[0;34m**\u001b[0m\u001b[0mkwargs\u001b[0m\u001b[0;34m)\u001b[0m\u001b[0;34m:\u001b[0m\u001b[0;34m\u001b[0m\u001b[0m\n\u001b[1;32m    141\u001b[0m     \u001b[0mself\u001b[0m\u001b[0;34m.\u001b[0m\u001b[0m_pipeline_context\u001b[0m\u001b[0;34m.\u001b[0m\u001b[0mprovenance\u001b[0m\u001b[0;34m[\u001b[0m\u001b[0mself\u001b[0m\u001b[0;34m.\u001b[0m\u001b[0m_connector\u001b[0m\u001b[0;34m.\u001b[0m\u001b[0m_current_stage\u001b[0m\u001b[0;34m.\u001b[0m\u001b[0muuid\u001b[0m\u001b[0;34m]\u001b[0m \u001b[0;34m=\u001b[0m \u001b[0mself\u001b[0m\u001b[0;34m.\u001b[0m\u001b[0m_connector\u001b[0m\u001b[0;34m.\u001b[0m\u001b[0mtree_names\u001b[0m\u001b[0;34m(\u001b[0m\u001b[0;34m)\u001b[0m\u001b[0;34m\u001b[0m\u001b[0m\n\u001b[0;32m--> 142\u001b[0;31m     \u001b[0;32mreturn\u001b[0m \u001b[0mself\u001b[0m\u001b[0;34m.\u001b[0m\u001b[0m_connector\u001b[0m\u001b[0;34m.\u001b[0m\u001b[0mrun\u001b[0m\u001b[0;34m(\u001b[0m\u001b[0;34m*\u001b[0m\u001b[0margs\u001b[0m\u001b[0;34m,\u001b[0m \u001b[0;34m**\u001b[0m\u001b[0mkwargs\u001b[0m\u001b[0;34m)\u001b[0m\u001b[0;34m\u001b[0m\u001b[0m\n\u001b[0m\u001b[1;32m    143\u001b[0m \u001b[0;34m\u001b[0m\u001b[0m\n\u001b[1;32m    144\u001b[0m   \u001b[0;32mdef\u001b[0m \u001b[0m__call__\u001b[0m\u001b[0;34m(\u001b[0m\u001b[0mself\u001b[0m\u001b[0;34m,\u001b[0m \u001b[0;34m*\u001b[0m\u001b[0margs\u001b[0m\u001b[0;34m,\u001b[0m \u001b[0;34m**\u001b[0m\u001b[0mkwargs\u001b[0m\u001b[0;34m)\u001b[0m\u001b[0;34m:\u001b[0m\u001b[0;34m\u001b[0m\u001b[0m\n",
      "\u001b[0;32m/home/ja/Repos/vcat/vcat-results/vcat/__init__.pyc\u001b[0m in \u001b[0;36mrun\u001b[0;34m(self, *args, **kwargs)\u001b[0m\n\u001b[1;32m     50\u001b[0m       \u001b[0mprevious_results\u001b[0m \u001b[0;34m=\u001b[0m \u001b[0;34m[\u001b[0m\u001b[0mconnector\u001b[0m\u001b[0;34m.\u001b[0m\u001b[0mrun\u001b[0m\u001b[0;34m(\u001b[0m\u001b[0;34m)\u001b[0m \u001b[0;32mfor\u001b[0m \u001b[0mconnector\u001b[0m \u001b[0;32min\u001b[0m \u001b[0mself\u001b[0m\u001b[0;34m.\u001b[0m\u001b[0m_previous_connectors\u001b[0m\u001b[0;34m]\u001b[0m\u001b[0;34m\u001b[0m\u001b[0m\n\u001b[1;32m     51\u001b[0m       \u001b[0mlist_args\u001b[0m \u001b[0;34m=\u001b[0m \u001b[0mlist\u001b[0m\u001b[0;34m(\u001b[0m\u001b[0margs\u001b[0m\u001b[0;34m)\u001b[0m\u001b[0;34m\u001b[0m\u001b[0m\n\u001b[0;32m---> 52\u001b[0;31m       \u001b[0mself\u001b[0m\u001b[0;34m.\u001b[0m\u001b[0m_result\u001b[0m \u001b[0;34m=\u001b[0m \u001b[0mself\u001b[0m\u001b[0;34m.\u001b[0m\u001b[0m_current_stage\u001b[0m\u001b[0;34m.\u001b[0m\u001b[0mrun\u001b[0m\u001b[0;34m(\u001b[0m\u001b[0;34m*\u001b[0m\u001b[0;34m(\u001b[0m\u001b[0mprevious_results\u001b[0m \u001b[0;34m+\u001b[0m \u001b[0mlist_args\u001b[0m\u001b[0;34m)\u001b[0m\u001b[0;34m,\u001b[0m \u001b[0;34m**\u001b[0m\u001b[0mkwargs\u001b[0m\u001b[0;34m)\u001b[0m\u001b[0;34m\u001b[0m\u001b[0m\n\u001b[0m\u001b[1;32m     53\u001b[0m       \u001b[0mself\u001b[0m\u001b[0;34m.\u001b[0m\u001b[0m_has_run\u001b[0m \u001b[0;34m=\u001b[0m \u001b[0mTrue\u001b[0m\u001b[0;34m\u001b[0m\u001b[0m\n\u001b[1;32m     54\u001b[0m       \u001b[0;32mreturn\u001b[0m \u001b[0mself\u001b[0m\u001b[0;34m.\u001b[0m\u001b[0m_result\u001b[0m\u001b[0;34m\u001b[0m\u001b[0m\n",
      "\u001b[0;32m/home/ja/Repos/vcat/vcat-results/vcat/__init__.pyc\u001b[0m in \u001b[0;36mrun\u001b[0;34m(self, *local_args)\u001b[0m\n\u001b[1;32m     10\u001b[0m \u001b[0;34m\u001b[0m\u001b[0m\n\u001b[1;32m     11\u001b[0m   \u001b[0;32mdef\u001b[0m \u001b[0mrun\u001b[0m\u001b[0;34m(\u001b[0m\u001b[0mself\u001b[0m\u001b[0;34m,\u001b[0m \u001b[0;34m*\u001b[0m\u001b[0mlocal_args\u001b[0m\u001b[0;34m)\u001b[0m\u001b[0;34m:\u001b[0m\u001b[0;34m\u001b[0m\u001b[0m\n\u001b[0;32m---> 12\u001b[0;31m     \u001b[0;32mreturn\u001b[0m \u001b[0mself\u001b[0m\u001b[0;34m.\u001b[0m\u001b[0mfunction\u001b[0m\u001b[0;34m(\u001b[0m\u001b[0;34m*\u001b[0m\u001b[0;34m(\u001b[0m\u001b[0mlocal_args\u001b[0m \u001b[0;34m+\u001b[0m \u001b[0mself\u001b[0m\u001b[0;34m.\u001b[0m\u001b[0margs\u001b[0m\u001b[0;34m)\u001b[0m\u001b[0;34m,\u001b[0m \u001b[0;34m**\u001b[0m\u001b[0mself\u001b[0m\u001b[0;34m.\u001b[0m\u001b[0mkwargs\u001b[0m\u001b[0;34m)\u001b[0m\u001b[0;34m\u001b[0m\u001b[0m\n\u001b[0m\u001b[1;32m     13\u001b[0m \u001b[0;34m\u001b[0m\u001b[0m\n\u001b[1;32m     14\u001b[0m   \u001b[0;32mdef\u001b[0m \u001b[0mname\u001b[0m\u001b[0;34m(\u001b[0m\u001b[0mself\u001b[0m\u001b[0;34m)\u001b[0m\u001b[0;34m:\u001b[0m\u001b[0;34m\u001b[0m\u001b[0m\n",
      "\u001b[0;32m/home/ja/Repos/vcat/vcat-results/vcat/__init__.pyc\u001b[0m in \u001b[0;36mwrapped\u001b[0;34m(*args, **kwargs)\u001b[0m\n\u001b[1;32m     86\u001b[0m \u001b[0;34m\u001b[0m\u001b[0m\n\u001b[1;32m     87\u001b[0m       \u001b[0mstart_time\u001b[0m \u001b[0;34m=\u001b[0m \u001b[0mtime\u001b[0m\u001b[0;34m.\u001b[0m\u001b[0mtime\u001b[0m\u001b[0;34m(\u001b[0m\u001b[0;34m)\u001b[0m\u001b[0;34m\u001b[0m\u001b[0m\n\u001b[0;32m---> 88\u001b[0;31m       \u001b[0mstage_output\u001b[0m \u001b[0;34m=\u001b[0m \u001b[0mfunction\u001b[0m\u001b[0;34m(\u001b[0m\u001b[0;34m*\u001b[0m\u001b[0margs\u001b[0m\u001b[0;34m,\u001b[0m \u001b[0;34m**\u001b[0m\u001b[0mkwargs\u001b[0m\u001b[0;34m)\u001b[0m\u001b[0;34m\u001b[0m\u001b[0m\n\u001b[0m\u001b[1;32m     89\u001b[0m       \u001b[0mend_time\u001b[0m \u001b[0;34m=\u001b[0m \u001b[0mtime\u001b[0m\u001b[0;34m.\u001b[0m\u001b[0mtime\u001b[0m\u001b[0;34m(\u001b[0m\u001b[0;34m)\u001b[0m\u001b[0;34m\u001b[0m\u001b[0m\n\u001b[1;32m     90\u001b[0m       \u001b[0;32mif\u001b[0m \u001b[0misinstance\u001b[0m\u001b[0;34m(\u001b[0m\u001b[0mstage_output\u001b[0m\u001b[0;34m,\u001b[0m \u001b[0mtuple\u001b[0m\u001b[0;34m)\u001b[0m\u001b[0;34m:\u001b[0m\u001b[0;34m\u001b[0m\u001b[0m\n",
      "\u001b[0;32m<ipython-input-3-3d184c98aa45>\u001b[0m in \u001b[0;36mexecute\u001b[0;34m()\u001b[0m\n\u001b[1;32m      6\u001b[0m     \u001b[0;32mdef\u001b[0m \u001b[0mstage\u001b[0m\u001b[0;34m(\u001b[0m\u001b[0mself\u001b[0m\u001b[0;34m,\u001b[0m \u001b[0mfunction\u001b[0m\u001b[0;34m,\u001b[0m \u001b[0;34m*\u001b[0m\u001b[0margs\u001b[0m\u001b[0;34m,\u001b[0m \u001b[0;34m**\u001b[0m\u001b[0mkwargs\u001b[0m\u001b[0;34m)\u001b[0m\u001b[0;34m:\u001b[0m\u001b[0;34m\u001b[0m\u001b[0m\n\u001b[1;32m      7\u001b[0m         \u001b[0;32mdef\u001b[0m \u001b[0mexecute\u001b[0m\u001b[0;34m(\u001b[0m\u001b[0;34m)\u001b[0m\u001b[0;34m:\u001b[0m\u001b[0;34m\u001b[0m\u001b[0m\n\u001b[0;32m----> 8\u001b[0;31m             \u001b[0;32mreturn\u001b[0m \u001b[0mpipeline_context\u001b[0m\u001b[0;34m.\u001b[0m\u001b[0mstage\u001b[0m\u001b[0;34m(\u001b[0m\u001b[0mfunction\u001b[0m\u001b[0;34m,\u001b[0m \u001b[0;34m*\u001b[0m\u001b[0margs\u001b[0m\u001b[0;34m,\u001b[0m \u001b[0;34m**\u001b[0m\u001b[0mkwargs\u001b[0m\u001b[0;34m)\u001b[0m\u001b[0;34m\u001b[0m\u001b[0m\n\u001b[0m\u001b[1;32m      9\u001b[0m         \u001b[0;32mreturn\u001b[0m \u001b[0mpipeline\u001b[0m\u001b[0;34m.\u001b[0m\u001b[0mstage\u001b[0m\u001b[0;34m(\u001b[0m\u001b[0mexecute\u001b[0m\u001b[0;34m)\u001b[0m\u001b[0;34m\u001b[0m\u001b[0m\n",
      "\u001b[0;31mAttributeError\u001b[0m: 'PipelineContext' object has no attribute 'stage'"
     ]
    }
   ],
   "source": [
    "SuperPipeline(pipeline, pipeline_context).stage(lambda: (5, {\"hello\": \"no\"})).run()"
   ]
  },
  {
   "cell_type": "code",
   "execution_count": 8,
   "metadata": {},
   "outputs": [],
   "source": [
    "pipeline_context.save(RedisResultSaver())"
   ]
  },
  {
   "cell_type": "code",
   "execution_count": 9,
   "metadata": {},
   "outputs": [
    {
     "data": {
      "text/html": [
       "<div>\n",
       "<style scoped>\n",
       "    .dataframe tbody tr th:only-of-type {\n",
       "        vertical-align: middle;\n",
       "    }\n",
       "\n",
       "    .dataframe tbody tr th {\n",
       "        vertical-align: top;\n",
       "    }\n",
       "\n",
       "    .dataframe thead th {\n",
       "        text-align: right;\n",
       "    }\n",
       "</style>\n",
       "<table border=\"1\" class=\"dataframe\">\n",
       "  <thead>\n",
       "    <tr style=\"text-align: right;\">\n",
       "      <th></th>\n",
       "      <th>FPR</th>\n",
       "      <th>MDR</th>\n",
       "      <th>hello</th>\n",
       "      <th>hello_again</th>\n",
       "    </tr>\n",
       "  </thead>\n",
       "  <tbody>\n",
       "    <tr>\n",
       "      <th>0</th>\n",
       "      <td>asdlfj</td>\n",
       "      <td>[asdlfj, potato, {'hello': 'world'}]</td>\n",
       "      <td>5</td>\n",
       "      <td>5.0</td>\n",
       "    </tr>\n",
       "    <tr>\n",
       "      <th>1</th>\n",
       "      <td>asdlfj</td>\n",
       "      <td>NaN</td>\n",
       "      <td>5</td>\n",
       "      <td>5.0</td>\n",
       "    </tr>\n",
       "    <tr>\n",
       "      <th>2</th>\n",
       "      <td>asdlfj</td>\n",
       "      <td>asdlfj</td>\n",
       "      <td>5</td>\n",
       "      <td>5.0</td>\n",
       "    </tr>\n",
       "    <tr>\n",
       "      <th>3</th>\n",
       "      <td>NaN</td>\n",
       "      <td>NaN</td>\n",
       "      <td>yes</td>\n",
       "      <td>NaN</td>\n",
       "    </tr>\n",
       "    <tr>\n",
       "      <th>4</th>\n",
       "      <td>NaN</td>\n",
       "      <td>NaN</td>\n",
       "      <td>no</td>\n",
       "      <td>NaN</td>\n",
       "    </tr>\n",
       "  </tbody>\n",
       "</table>\n",
       "</div>"
      ],
      "text/plain": [
       "      FPR                                   MDR hello  hello_again\n",
       "0  asdlfj  [asdlfj, potato, {'hello': 'world'}]     5          5.0\n",
       "1  asdlfj                                   NaN     5          5.0\n",
       "2  asdlfj                                asdlfj     5          5.0\n",
       "3     NaN                                   NaN   yes          NaN\n",
       "4     NaN                                   NaN    no          NaN"
      ]
     },
     "execution_count": 9,
     "metadata": {},
     "output_type": "execute_result"
    }
   ],
   "source": [
    "ResultReader().to_pandas()"
   ]
  },
  {
   "cell_type": "code",
   "execution_count": 5,
   "metadata": {},
   "outputs": [
    {
     "data": {
      "text/plain": [
       "'\\x80\\x02cvcat\\nStageConnector\\nq\\x00)\\x81q\\x01}q\\x02(U\\x07_resultq\\x03NU\\x14_previous_connectorsq\\x04]q\\x05(h\\x00)\\x81q\\x06}q\\x07(h\\x03Nh\\x04]q\\x08h\\x00)\\x81q\\t}q\\n(h\\x03Nh\\x04]q\\x0bU\\x08_has_runq\\x0c\\x89U\\x0e_current_stageq\\rcvcat\\nStage\\nq\\x0e)\\x81q\\x0f}q\\x10(U\\x08functionq\\x11cdill.dill\\n_create_function\\nq\\x12(cdill.dill\\n_load_type\\nq\\x13U\\x08CodeTypeq\\x14\\x85q\\x15Rq\\x16(K\\x00K\\x08K\\x03K\\x1fU\\x94d\\x01\\x00d\\x00\\x00l\\x00\\x00}\\x02\\x00|\\x02\\x00j\\x00\\x00\\x83\\x00\\x00}\\x03\\x00\\x88\\x00\\x00|\\x00\\x00|\\x01\\x00\\x8e\\x00\\x00}\\x04\\x00|\\x02\\x00j\\x00\\x00\\x83\\x00\\x00}\\x05\\x00t\\x01\\x00|\\x04\\x00t\\x02\\x00\\x83\\x02\\x00ra\\x00|\\x04\\x00\\\\\\x02\\x00}\\x06\\x00}\\x07\\x00|\\x07\\x00\\x88\\x01\\x00j\\x03\\x00j\\x04\\x00\\x88\\x02\\x00<n\\x06\\x00|\\x04\\x00}\\x06\\x00i\\x03\\x00|\\x03\\x00d\\x02\\x006|\\x05\\x00d\\x03\\x006|\\x05\\x00|\\x03\\x00\\x18d\\x04\\x006\\x88\\x01\\x00j\\x03\\x00j\\x05\\x00\\x88\\x02\\x00<|\\x06\\x00Sq\\x17(NJ\\xff\\xff\\xff\\xffU\\nstart_timeq\\x18U\\x08end_timeq\\x19U\\ndelta_timeq\\x1atq\\x1b(U\\x04timeq\\x1cU\\nisinstanceq\\x1dU\\x05tupleq\\x1eU\\x11_pipeline_contextq\\x1fU\\x07resultsq U\\tmeta_dataq!tq\"(U\\x04argsq#U\\x06kwargsq$h\\x1ch\\x18U\\x0cstage_outputq%h\\x19U\\x0creturn_valueq&U\\x06resultq\\'tq(U\\x10vcat/__init__.pyq)U\\x07wrappedq*KTU\\x1a\\x00\\x01\\x0c\\x02\\x0c\\x01\\x0f\\x01\\x0c\\x01\\x0f\\x01\\x0c\\x01\\x13\\x02\\x06\\x01\\x03\\x01\\x07\\x01\\x07\\x01\\x18\\x02q+h\\x11U\\x04selfq,U\\nstage_uuidq-\\x87q.)tq/Rq0cvcat\\n__dict__\\nh*Ncdill.dill\\n_create_cell\\nq1h\\x12(h\\x16(K\\x02K\\x02K\\x02KCU\\x08|\\x00\\x00|\\x01\\x00\\x17Sq2N\\x85q3)U\\x01xq4U\\x01yq5\\x86q6U\\x1e<ipython-input-5-c652da65b18f>q7U\\x08funtimesq8K\\x01U\\x02\\x00\\x01q9))tq:Rq;c__builtin__\\n__main__\\nh8NN}q<tq=Rq>\\x85q?Rq@h1cvcat\\nStageContext\\nqA)\\x81qB}qCh\\x1fcvcat\\nPipelineContext\\nqD)\\x81qE}qF(U\\tfile_nameqGU)942880b7-8fc4-417c-8452-304d01e66384.jsonqHU\\nprovenanceqI}qJU$af4248cf-7d98-4526-895e-98ae93b7f220qK}qL(h$}qMU\\rfunction_nameqNU\\x07executeqOU\\x07parentsqP]qQh#)U\\x05stageqRhKush }qSh!}qTU\\x0bpredictionsqU}qVubsb\\x85qWRqXh1U$4f08c336-eca4-4cbc-b664-68995f1cf3ffqY\\x85qZRq[\\x87q\\\\}q]tq^Rq_U\\x12_metadata_functionq`h>h#K\\x05\\x85qaU\\x04uuidqbhYh$}qch5K\\nsububah\\x0c\\x89h\\rh\\x0e)\\x81qd}qe(h\\x11h\\x12(h0cvcat\\n__dict__\\nh*Nh1h\\x12(h\\x16(K\\x01K\\x01K\\x02KCU\\x08|\\x00\\x00|\\x00\\x00\\x14SqfN\\x85qg)h4\\x85qhU\\x1e<ipython-input-5-c652da65b18f>qiU\\x08<lambda>qjK\\x04U\\x00qk))tqlRqmc__builtin__\\n__main__\\nhjNN}qntqoRqp\\x85qqRqrh1hB\\x85qsRqth1U$ae33b1de-e015-4094-9e3a-1422065ad156qu\\x85qvRqw\\x87qx}qytqzRq{h`hph#)hbhuh$}q|ububh\\x00)\\x81q}}q~(h\\x03Nh\\x04]q\\x7fh\\x00)\\x81q\\x80}q\\x81(h\\x03Nh\\x04]q\\x82h\\x0c\\x89h\\rh\\x0e)\\x81q\\x83}q\\x84(h\\x11h\\x12(h0cvcat\\n__dict__\\nh*Nh1h\\x12(h\\x16(K\\x02K\\x02K\\x02KCU\\x08|\\x00\\x00|\\x01\\x00\\x17Sq\\x85N\\x85q\\x86)h4U\\x01zq\\x87\\x86q\\x88U\\x1e<ipython-input-5-c652da65b18f>q\\x89hjK\\x05U\\x00q\\x8a))tq\\x8bRq\\x8cc__builtin__\\n__main__\\nhjNN}q\\x8dtq\\x8eRq\\x8f\\x85q\\x90Rq\\x91h1hB\\x85q\\x92Rq\\x93h1U$8f3ae109-7b96-47e3-a1ab-164db65ccc63q\\x94\\x85q\\x95Rq\\x96\\x87q\\x97}q\\x98tq\\x99Rq\\x9ah`h\\x8fh#K\\x05\\x85q\\x9bhbh\\x94h$}q\\x9ch\\x87K\\nsububah\\x0c\\x89h\\rh\\x0e)\\x81q\\x9d}q\\x9e(h\\x11h\\x12(h0cvcat\\n__dict__\\nh*Nh1h\\x12(h\\x16(K\\x01K\\x01K\\x02KCU\\x08|\\x00\\x00|\\x00\\x00\\x14Sq\\x9fN\\x85q\\xa0)h4\\x85q\\xa1U\\x1e<ipython-input-5-c652da65b18f>q\\xa2hjK\\x05U\\x00q\\xa3))tq\\xa4Rq\\xa5c__builtin__\\n__main__\\nhjNN}q\\xa6tq\\xa7Rq\\xa8\\x85q\\xa9Rq\\xaah1hB\\x85q\\xabRq\\xach1U$241da7c4-1a04-4305-8b23-996d83604166q\\xad\\x85q\\xaeRq\\xaf\\x87q\\xb0}q\\xb1tq\\xb2Rq\\xb3h`h\\xa8h#)hbh\\xadh$}q\\xb4ububeh\\x0c\\x89h\\rh\\x0e)\\x81q\\xb5}q\\xb6(h\\x11h\\x12(h0cvcat\\n__dict__\\nh*Nh1h\\x12(h\\x16(K\\x02K\\x02K\\x02KCU\\x08|\\x00\\x00|\\x01\\x00\\x14Sq\\xb7N\\x85q\\xb8)h4h5\\x86q\\xb9U\\x1e<ipython-input-5-c652da65b18f>q\\xbahjK\\x07U\\x00q\\xbb))tq\\xbcRq\\xbdc__builtin__\\n__main__\\nhjNN}q\\xbetq\\xbfRq\\xc0\\x85q\\xc1Rq\\xc2h1hB\\x85q\\xc3Rq\\xc4h1U$1941e570-ddd5-4ef5-b93f-6b215d3a4bc4q\\xc5\\x85q\\xc6Rq\\xc7\\x87q\\xc8}q\\xc9tq\\xcaRq\\xcbh`h\\xc0h#)hbh\\xc5h$}q\\xccubub.'"
      ]
     },
     "execution_count": 5,
     "metadata": {},
     "output_type": "execute_result"
    }
   ],
   "source": [
    "def funtimes(x, y):\n",
    "    return x+y\n",
    "\n",
    "p1 = pipeline | (funtimes, 5,{\"y\": 10}) | (lambda x: x * x)\n",
    "p2 = pipeline | ((lambda x, z: x+z), 5,{\"z\": 10}) | (lambda x: x * x)\n",
    "\n",
    "p3 = pipeline.join([p1, p2], lambda x, y: x * y)\n",
    "p3.serialize()"
   ]
  },
  {
   "cell_type": "code",
   "execution_count": 5,
   "metadata": {},
   "outputs": [],
   "source": [
    "def get_data():\n",
    "    return [1, 2, 3, 4]\n",
    "\n",
    "p_big = pipeline | get_data\n",
    "p_0, p_1 = p_big.splice(2)"
   ]
  },
  {
   "cell_type": "code",
   "execution_count": 6,
   "metadata": {},
   "outputs": [
    {
     "data": {
      "text/plain": [
       "1"
      ]
     },
     "execution_count": 6,
     "metadata": {},
     "output_type": "execute_result"
    }
   ],
   "source": [
    "p_0.run()"
   ]
  },
  {
   "cell_type": "code",
   "execution_count": 7,
   "metadata": {},
   "outputs": [
    {
     "data": {
      "text/plain": [
       "2"
      ]
     },
     "execution_count": 7,
     "metadata": {},
     "output_type": "execute_result"
    }
   ],
   "source": [
    "p_1.run()"
   ]
  },
  {
   "cell_type": "code",
   "execution_count": 10,
   "metadata": {},
   "outputs": [
    {
     "data": {
      "text/plain": [
       "'\\x80\\x02cvcat\\nStageConnector\\nq\\x00)\\x81q\\x01}q\\x02(U\\x07_resultq\\x03K\\x01U\\x14_previous_connectorsq\\x04]q\\x05h\\x00)\\x81q\\x06}q\\x07(h\\x03]q\\x08(K\\x01K\\x02K\\x03K\\x04eh\\x04]q\\tU\\x08_has_runq\\n\\x88U\\x0e_current_stageq\\x0bcvcat\\nStage\\nq\\x0c)\\x81q\\r}q\\x0e(U\\x08functionq\\x0fcdill.dill\\n_create_function\\nq\\x10(cdill.dill\\n_load_type\\nq\\x11U\\x08CodeTypeq\\x12\\x85q\\x13Rq\\x14(K\\x00K\\x08K\\x03K\\x1fU\\x94d\\x01\\x00d\\x00\\x00l\\x00\\x00}\\x02\\x00|\\x02\\x00j\\x00\\x00\\x83\\x00\\x00}\\x03\\x00\\x88\\x00\\x00|\\x00\\x00|\\x01\\x00\\x8e\\x00\\x00}\\x04\\x00|\\x02\\x00j\\x00\\x00\\x83\\x00\\x00}\\x05\\x00t\\x01\\x00|\\x04\\x00t\\x02\\x00\\x83\\x02\\x00ra\\x00|\\x04\\x00\\\\\\x02\\x00}\\x06\\x00}\\x07\\x00|\\x07\\x00\\x88\\x01\\x00j\\x03\\x00j\\x04\\x00\\x88\\x02\\x00<n\\x06\\x00|\\x04\\x00}\\x06\\x00i\\x03\\x00|\\x03\\x00d\\x02\\x006|\\x05\\x00d\\x03\\x006|\\x05\\x00|\\x03\\x00\\x18d\\x04\\x006\\x88\\x01\\x00j\\x03\\x00j\\x05\\x00\\x88\\x02\\x00<|\\x06\\x00Sq\\x15(NJ\\xff\\xff\\xff\\xffU\\nstart_timeq\\x16U\\x08end_timeq\\x17U\\ndelta_timeq\\x18tq\\x19(U\\x04timeq\\x1aU\\nisinstanceq\\x1bU\\x05tupleq\\x1cU\\x11_pipeline_contextq\\x1dU\\x07resultsq\\x1eU\\tmeta_dataq\\x1ftq (U\\x04argsq!U\\x06kwargsq\"h\\x1ah\\x16U\\x0cstage_outputq#h\\x17U\\x0creturn_valueq$U\\x06resultq%tq&U\\x10vcat/__init__.pyq\\'U\\x07wrappedq(KTU\\x1a\\x00\\x01\\x0c\\x02\\x0c\\x01\\x0f\\x01\\x0c\\x01\\x0f\\x01\\x0c\\x01\\x13\\x02\\x06\\x01\\x03\\x01\\x07\\x01\\x07\\x01\\x18\\x02q)h\\x0fU\\x04selfq*U\\nstage_uuidq+\\x87q,)tq-Rq.cvcat\\n__dict__\\nh(Ncdill.dill\\n_create_cell\\nq/h\\x10(h\\x14(K\\x00K\\x00K\\x04KCU\\x10d\\x01\\x00d\\x02\\x00d\\x03\\x00d\\x04\\x00g\\x04\\x00Sq0(NK\\x01K\\x02K\\x03K\\x04tq1))U\\x1e<ipython-input-5-af170d6062fd>q2U\\x08get_dataq3K\\x01U\\x02\\x00\\x01q4))tq5Rq6c__builtin__\\n__main__\\nh3NN}q7tq8Rq9\\x85q:Rq;h/cvcat\\nStageContext\\nq<)\\x81q=}q>h\\x1dcvcat\\nPipelineContext\\nq?)\\x81q@}qA(U\\tfile_nameqBU)72b36d62-c394-4566-a7d7-ca4268187ad2.jsonqCU\\nprovenanceqD}qE(U$ff102b42-098f-43a5-bd15-a3bba7fff791qF}qG(h\"}qHU\\rfunction_nameqIU\\tsplice_atqJU\\x07parentsqK]qL}qM(h\"}qNhIU\\x08<lambda>qOhK]qPh!)U\\x05stageqQU$0208cc94-7660-45f3-b191-9d2952ec35aaqRuah!K\\x00\\x85qShQhFuU$cd6f49ea-0c17-43d3-82c9-e01fbfb1824aqT}qU(h\"}qVhIhJhK]qW}qX(h\"}qYhIh3hK]qZh!)hQU$0e4d786a-e7ee-4319-b4e7-d1376e4d41caq[uah!K\\x00\\x85q\\\\hQhTuU$f5e501b0-9bb8-4e6f-a989-19a4e4f3bc87q]}q^(h\"}q_hIhJhK]q`}qa(h\"hNhIhOhK]qbh!)hQhRuah!K\\x01\\x85qchQh]uU$dc8bbb13-58b8-4297-b7a5-cc89e273f495qd}qe(h\"}qfhIhJhK]qg}qh(h\"hYhIh3hK]qih!)hQh[uah!K\\x01\\x85qjhQhduuh\\x1e}qkh\\x1f}ql(hT}qm(h\\x16GA\\xd6\\xbf\\r\\xc1\\xfd\\x06\\xf2h\\x18G>\\xc2\\x00\\x00\\x00\\x00\\x00\\x00h\\x17GA\\xd6\\xbf\\r\\xc1\\xfd\\x06\\xfbuhF}qn(h\\x16GA\\xd6\\xbf\\r\\x97\\xbe\\xb7\\x89h\\x18G\\x00\\x00\\x00\\x00\\x00\\x00\\x00\\x00h\\x17GA\\xd6\\xbf\\r\\x97\\xbe\\xb7\\x89uhd}qo(h\\x16GA\\xd6\\xbf\\r\\xc2\"\\xf9\\xa5h\\x18G\\x00\\x00\\x00\\x00\\x00\\x00\\x00\\x00h\\x17GA\\xd6\\xbf\\r\\xc2\"\\xf9\\xa5uh[}qp(h\\x16GA\\xd6\\xbf\\r\\xc1\\xfd\\x06\\xc0h\\x18G>\\xc0\\x00\\x00\\x00\\x00\\x00\\x00h\\x17GA\\xd6\\xbf\\r\\xc1\\xfd\\x06\\xc8uhR}qq(h\\x16GA\\xd6\\xbf\\r\\x97\\xbe\\xb7Zh\\x18G>\\xc2\\x00\\x00\\x00\\x00\\x00\\x00h\\x17GA\\xd6\\xbf\\r\\x97\\xbe\\xb7cuh]}qr(h\\x16GA\\xd6\\xbf\\r\\x97\\xderzh\\x18G>\\xb0\\x00\\x00\\x00\\x00\\x00\\x00h\\x17GA\\xd6\\xbf\\r\\x97\\xder~uuU\\x0bpredictionsqs}qtubsb\\x85quRqvh/h[\\x85qwRqx\\x87qy}qztq{Rq|U\\x12_metadata_functionq}h9h!)U\\x04uuidq~h[h\"hYububah\\n\\x88h\\x0bh\\x0c)\\x81q\\x7f}q\\x80(h\\x0fh\\x10(h.cvcat\\n__dict__\\nh(Nh/h\\x10(h\\x14(K\\x02K\\x02K\\x02KSU\\x08|\\x00\\x00|\\x01\\x00\\x19Sq\\x81N\\x85q\\x82)U\\x0bdata_framesq\\x83U\\x08slot_numq\\x84\\x86q\\x85U\\x10vcat/__init__.pyq\\x86hJK\\x9bU\\x02\\x00\\x01q\\x87))tq\\x88Rq\\x89cvcat\\n__dict__\\nhJNN}q\\x8atq\\x8bRq\\x8c\\x85q\\x8dRq\\x8eh/h=\\x85q\\x8fRq\\x90h/hT\\x85q\\x91Rq\\x92\\x87q\\x93}q\\x94tq\\x95Rq\\x96h}h\\x8ch!h\\\\h~hTh\"hVubub.'"
      ]
     },
     "execution_count": 10,
     "metadata": {},
     "output_type": "execute_result"
    }
   ],
   "source": [
    "p_0.serialize()"
   ]
  },
  {
   "cell_type": "code",
   "execution_count": null,
   "metadata": {},
   "outputs": [],
   "source": []
  }
 ],
 "metadata": {
  "kernelspec": {
   "display_name": "Python 2",
   "language": "python",
   "name": "python2"
  },
  "language_info": {
   "codemirror_mode": {
    "name": "ipython",
    "version": 2
   },
   "file_extension": ".py",
   "mimetype": "text/x-python",
   "name": "python",
   "nbconvert_exporter": "python",
   "pygments_lexer": "ipython2",
   "version": "2.7.12"
  }
 },
 "nbformat": 4,
 "nbformat_minor": 2
}
